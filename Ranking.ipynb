{
 "cells": [
  {
   "cell_type": "markdown",
   "metadata": {},
   "source": [
    "<div style=\"font-size:22pt; line-height:25pt; font-weight:bold; text-align:center;\">Squash ranking</div>\n",
    "\n",
    "This notebook aims to rank the SUPAERO squash players using a Elo ranking system.\n",
    "\n",
    "The Elo method awards points to a player according its chronological results. If he realizes a better performance than its estimated level, he will earn Elo points. Reciprocally, if he loses against a weaker opponent, he will lose some Elo points.\n",
    "\n",
    "The calculation method is the following:\n",
    "\n",
    "<div style=\"text-align:center\">$E_{n+1} = E_n + K[W - p(D)]$</div>\n",
    "\n",
    "where:\n",
    "$E_n$ is the number of Elo points at time $n$, $K$ is the development factor, $W$ is the result of the game: 1 for a win and 0 for a defeat and $p(D)$ is the probability of winning depending on the difference of points between the two players and is calculated by $p(D) = \\frac{1}{1+10^{\\frac{-D}{300}}}$. Note that if $D$ is greater than 300, it will be reduced to 300.\n",
    "\n",
    "Every new player will begin with a ranking of 1000 Elo points. During his first 30 sets, a player will have a high development factor $K=40$ in order to make its ranking rapidly converge to its real level. After that, the development factor will be set to 20. For players having a ranking above 2000 points, the development factor will be reduced to 10.\n",
    "\n",
    "1. [Algorithm](#sec1)\n",
    "2. [Results](#sec2)\n",
    "3. [Postgres database](#sec3)\n",
    "4. [R&D](#sec4)"
   ]
  },
  {
   "cell_type": "code",
   "execution_count": 31,
   "metadata": {},
   "outputs": [],
   "source": [
    "import pandas as pd\n",
    "import numpy as np\n",
    "import matplotlib.pyplot as plt\n",
    "import datetime\n",
    "\n",
    "pd.set_option('mode.chained_assignment',None)\n",
    "\n",
    "import psycopg2"
   ]
  },
  {
   "cell_type": "markdown",
   "metadata": {},
   "source": [
    "## 1. <a id=\"sec1\"></a> Algorithm"
   ]
  },
  {
   "cell_type": "code",
   "execution_count": 32,
   "metadata": {},
   "outputs": [],
   "source": [
    "def proba(D):\n",
    "    return 1/(1+pow(10,-D/300))"
   ]
  },
  {
   "cell_type": "markdown",
   "metadata": {},
   "source": [
    "Calculate points for a match"
   ]
  },
  {
   "cell_type": "code",
   "execution_count": 37,
   "metadata": {},
   "outputs": [],
   "source": [
    "def calculate_points(infos, players, result):\n",
    "    \n",
    "    # Get players scores\n",
    "    points = [infos[player][\"Points\"] for player in players]\n",
    "    \n",
    "    # Get points difference and proba\n",
    "    D = points[0] - points[1]\n",
    "    if abs(D) > 300:\n",
    "        D = np.sign(D)*300\n",
    "        \n",
    "    p_D = proba(D)\n",
    "    \n",
    "    # Get the evolution of points (for the first player)\n",
    "    evolution = result[0]*(1-proba(D)) + result[1]*(-proba(D))\n",
    "    \n",
    "    for i in range(2):\n",
    "        player = players[i]\n",
    "        \n",
    "        # Update score\n",
    "        infos[player][\"Points\"] += int(infos[player][\"Developpement\"]*(-2*i + 1)*evolution)\n",
    "        \n",
    "        # Update number of won sets\n",
    "        infos[player][\"Sets gagnes\"] += result[i]\n",
    "        \n",
    "        # Update number of won sets\n",
    "        infos[player][\"Sets perdus\"] += result[1-i]\n",
    "        \n",
    "        # Update number of played sets\n",
    "        infos[player][\"Sets joues\"] += sum(result)\n",
    "        \n",
    "        # Update development factor\n",
    "        if infos[player][\"Points\"] > 1200:\n",
    "            infos[player][\"Developpement\"] = 10\n",
    "            \n",
    "        if infos[player][\"Developpement\"] > 10:\n",
    "            if infos[player][\"Sets joues\"] > 29:\n",
    "                infos[player][\"Developpement\"] = 20"
   ]
  },
  {
   "cell_type": "markdown",
   "metadata": {},
   "source": [
    "Fill history of matches"
   ]
  },
  {
   "cell_type": "code",
   "execution_count": 38,
   "metadata": {},
   "outputs": [],
   "source": [
    "def fill_history(infos, match, players):\n",
    "    \n",
    "    indices = list(df[df[\"Date\"] == match].index)\n",
    "    \n",
    "    for i in range(2):\n",
    "        player = players[i]\n",
    "        index = indices[i]\n",
    "        \n",
    "        if np.isnan(df.Points[index]):\n",
    "        \n",
    "            df[\"Sets joues\"][index] = int(infos[player][\"Sets joues\"])\n",
    "            df[\"Sets perdus\"][index] = int(infos[player][\"Sets perdus\"])\n",
    "            df[\"Sets gagnes\"][index] = int(infos[player][\"Sets gagnes\"])\n",
    "            df[\"Developpement\"][index] = infos[player][\"Developpement\"]\n",
    "            df[\"Points\"][index] = infos[player][\"Points\"]    "
   ]
  },
  {
   "cell_type": "markdown",
   "metadata": {},
   "source": [
    "Main"
   ]
  },
  {
   "cell_type": "code",
   "execution_count": 39,
   "metadata": {},
   "outputs": [],
   "source": [
    "df = pd.read_csv(\"Historique Elo.csv\", sep=';', decimal=',')\n",
    "df.Points = np.nan\n",
    "\n",
    "infos = {}\n",
    "\n",
    "for match in list(df.Date.unique()):\n",
    "    players = list(df[df[\"Date\"]==match][\"Joueur\"])\n",
    "    \n",
    "    # Add player in actual ranking dict\n",
    "    for player in players:\n",
    "        if player not in list(infos.keys()):\n",
    "            new_player = {}\n",
    "            new_player[\"Sets joues\"] = 0\n",
    "            new_player[\"Sets perdus\"] = 0\n",
    "            new_player[\"Sets gagnes\"] = 0\n",
    "            new_player[\"Developpement\"] = 40\n",
    "            new_player[\"Points\"] = 1000\n",
    "            \n",
    "            infos[player] = new_player\n",
    "    \n",
    "    result = list(df[df[\"Date\"]==match][\"Scores\"])\n",
    "    \n",
    "    calculate_points(infos, players, result)\n",
    "    \n",
    "    fill_history(infos, match, players)\n",
    "    \n",
    "df = df.astype({'Sets joues': 'int64', 'Sets gagnes': 'int64', 'Sets perdus': 'int64',\n",
    "                'Developpement': 'int64', 'Points': 'int64'})\n",
    "    \n",
    "df.to_csv(\"Historique Elo.csv\", sep=';', decimal=',', index=False)"
   ]
  },
  {
   "cell_type": "markdown",
   "metadata": {},
   "source": [
    "## 2. <a id=\"sec2\"></a> Results\n",
    "\n",
    "In this section, we define two tables:\n",
    "- a history of matches\n",
    "- a final ranking with the players' stats"
   ]
  },
  {
   "cell_type": "code",
   "execution_count": 40,
   "metadata": {},
   "outputs": [],
   "source": [
    "df_match = df[[\"Date\", \"Joueur\", \"Points\"]]"
   ]
  },
  {
   "cell_type": "markdown",
   "metadata": {},
   "source": [
    "All players start with 1000 points"
   ]
  },
  {
   "cell_type": "code",
   "execution_count": 41,
   "metadata": {},
   "outputs": [
    {
     "data": {
      "text/html": [
       "<div>\n",
       "<style scoped>\n",
       "    .dataframe tbody tr th:only-of-type {\n",
       "        vertical-align: middle;\n",
       "    }\n",
       "\n",
       "    .dataframe tbody tr th {\n",
       "        vertical-align: top;\n",
       "    }\n",
       "\n",
       "    .dataframe thead th {\n",
       "        text-align: right;\n",
       "    }\n",
       "</style>\n",
       "<table border=\"1\" class=\"dataframe\">\n",
       "  <thead>\n",
       "    <tr style=\"text-align: right;\">\n",
       "      <th></th>\n",
       "      <th>Date</th>\n",
       "      <th>Joueur</th>\n",
       "      <th>Points</th>\n",
       "    </tr>\n",
       "  </thead>\n",
       "  <tbody>\n",
       "    <tr>\n",
       "      <th>0</th>\n",
       "      <td>2021-09-15 22:00:00</td>\n",
       "      <td>Marin</td>\n",
       "      <td>960</td>\n",
       "    </tr>\n",
       "    <tr>\n",
       "      <th>1</th>\n",
       "      <td>2021-09-15 22:00:00</td>\n",
       "      <td>Colas</td>\n",
       "      <td>1040</td>\n",
       "    </tr>\n",
       "    <tr>\n",
       "      <th>2</th>\n",
       "      <td>2021-09-16 18:24:00</td>\n",
       "      <td>LL</td>\n",
       "      <td>973</td>\n",
       "    </tr>\n",
       "    <tr>\n",
       "      <th>3</th>\n",
       "      <td>2021-09-16 18:24:00</td>\n",
       "      <td>Colas</td>\n",
       "      <td>1067</td>\n",
       "    </tr>\n",
       "    <tr>\n",
       "      <th>4</th>\n",
       "      <td>2021-09-17 14:48:00</td>\n",
       "      <td>KRa</td>\n",
       "      <td>971</td>\n",
       "    </tr>\n",
       "    <tr>\n",
       "      <th>...</th>\n",
       "      <td>...</td>\n",
       "      <td>...</td>\n",
       "      <td>...</td>\n",
       "    </tr>\n",
       "    <tr>\n",
       "      <th>392</th>\n",
       "      <td>2021-12-19 22:00:00</td>\n",
       "      <td>Roch</td>\n",
       "      <td>1000</td>\n",
       "    </tr>\n",
       "    <tr>\n",
       "      <th>393</th>\n",
       "      <td>2022-01-06 22:00:00</td>\n",
       "      <td>Bossard</td>\n",
       "      <td>1000</td>\n",
       "    </tr>\n",
       "    <tr>\n",
       "      <th>394</th>\n",
       "      <td>2022-01-10 10:00:00</td>\n",
       "      <td>Rémi</td>\n",
       "      <td>1000</td>\n",
       "    </tr>\n",
       "    <tr>\n",
       "      <th>395</th>\n",
       "      <td>2022-01-17 10:00:00</td>\n",
       "      <td>Thibs</td>\n",
       "      <td>1000</td>\n",
       "    </tr>\n",
       "    <tr>\n",
       "      <th>396</th>\n",
       "      <td>2022-01-20 10:00:00</td>\n",
       "      <td>Antoine</td>\n",
       "      <td>1000</td>\n",
       "    </tr>\n",
       "  </tbody>\n",
       "</table>\n",
       "<p>397 rows × 3 columns</p>\n",
       "</div>"
      ],
      "text/plain": [
       "                    Date   Joueur  Points\n",
       "0    2021-09-15 22:00:00    Marin     960\n",
       "1    2021-09-15 22:00:00    Colas    1040\n",
       "2    2021-09-16 18:24:00       LL     973\n",
       "3    2021-09-16 18:24:00    Colas    1067\n",
       "4    2021-09-17 14:48:00      KRa     971\n",
       "..                   ...      ...     ...\n",
       "392  2021-12-19 22:00:00     Roch    1000\n",
       "393  2022-01-06 22:00:00  Bossard    1000\n",
       "394  2022-01-10 10:00:00     Rémi    1000\n",
       "395  2022-01-17 10:00:00    Thibs    1000\n",
       "396  2022-01-20 10:00:00  Antoine    1000\n",
       "\n",
       "[397 rows x 3 columns]"
      ]
     },
     "execution_count": 41,
     "metadata": {},
     "output_type": "execute_result"
    }
   ],
   "source": [
    "for player in list(df.Joueur.unique()):\n",
    "    date0_str = list(df[df[\"Joueur\"]==player][\"Date\"])[0]    \n",
    "    date0 = datetime.datetime.strptime(date0_str, '%Y-%m-%d %H:%M:%S')\n",
    "    \n",
    "    date_begin = date0 - datetime.timedelta(days=1)\n",
    "    date_begin_str = datetime.datetime.strftime(date_begin, '%Y-%m-%d %H:%M:%S')\n",
    "\n",
    "    df_match = df_match.append({\"Date\":date_begin_str,\n",
    "                               \"Joueur\":player,\n",
    "                               \"Points\":1000}, ignore_index=True)\n",
    "    \n",
    "df_match"
   ]
  },
  {
   "cell_type": "code",
   "execution_count": 42,
   "metadata": {},
   "outputs": [
    {
     "data": {
      "text/html": [
       "<div>\n",
       "<style scoped>\n",
       "    .dataframe tbody tr th:only-of-type {\n",
       "        vertical-align: middle;\n",
       "    }\n",
       "\n",
       "    .dataframe tbody tr th {\n",
       "        vertical-align: top;\n",
       "    }\n",
       "\n",
       "    .dataframe thead th {\n",
       "        text-align: right;\n",
       "    }\n",
       "</style>\n",
       "<table border=\"1\" class=\"dataframe\">\n",
       "  <thead>\n",
       "    <tr style=\"text-align: right;\">\n",
       "      <th></th>\n",
       "      <th>Classement</th>\n",
       "      <th>Joueur</th>\n",
       "      <th>Points</th>\n",
       "      <th>Sets joues</th>\n",
       "      <th>Sets gagnes</th>\n",
       "      <th>Sets perdus</th>\n",
       "      <th>Developpement</th>\n",
       "    </tr>\n",
       "  </thead>\n",
       "  <tbody>\n",
       "    <tr>\n",
       "      <th>3</th>\n",
       "      <td>1</td>\n",
       "      <td>KRa</td>\n",
       "      <td>1244</td>\n",
       "      <td>223</td>\n",
       "      <td>198</td>\n",
       "      <td>25</td>\n",
       "      <td>10</td>\n",
       "    </tr>\n",
       "    <tr>\n",
       "      <th>15</th>\n",
       "      <td>2</td>\n",
       "      <td>Bossard</td>\n",
       "      <td>1216</td>\n",
       "      <td>17</td>\n",
       "      <td>17</td>\n",
       "      <td>0</td>\n",
       "      <td>10</td>\n",
       "    </tr>\n",
       "    <tr>\n",
       "      <th>6</th>\n",
       "      <td>3</td>\n",
       "      <td>Mateos</td>\n",
       "      <td>1070</td>\n",
       "      <td>120</td>\n",
       "      <td>48</td>\n",
       "      <td>72</td>\n",
       "      <td>20</td>\n",
       "    </tr>\n",
       "    <tr>\n",
       "      <th>1</th>\n",
       "      <td>4</td>\n",
       "      <td>Colas</td>\n",
       "      <td>1064</td>\n",
       "      <td>141</td>\n",
       "      <td>78</td>\n",
       "      <td>63</td>\n",
       "      <td>20</td>\n",
       "    </tr>\n",
       "    <tr>\n",
       "      <th>7</th>\n",
       "      <td>5</td>\n",
       "      <td>PLN</td>\n",
       "      <td>1027</td>\n",
       "      <td>97</td>\n",
       "      <td>29</td>\n",
       "      <td>68</td>\n",
       "      <td>20</td>\n",
       "    </tr>\n",
       "    <tr>\n",
       "      <th>9</th>\n",
       "      <td>6</td>\n",
       "      <td>Xavier</td>\n",
       "      <td>1022</td>\n",
       "      <td>9</td>\n",
       "      <td>4</td>\n",
       "      <td>5</td>\n",
       "      <td>40</td>\n",
       "    </tr>\n",
       "    <tr>\n",
       "      <th>12</th>\n",
       "      <td>7</td>\n",
       "      <td>Pele</td>\n",
       "      <td>999</td>\n",
       "      <td>28</td>\n",
       "      <td>14</td>\n",
       "      <td>14</td>\n",
       "      <td>40</td>\n",
       "    </tr>\n",
       "    <tr>\n",
       "      <th>8</th>\n",
       "      <td>8</td>\n",
       "      <td>Toujouse</td>\n",
       "      <td>972</td>\n",
       "      <td>11</td>\n",
       "      <td>6</td>\n",
       "      <td>5</td>\n",
       "      <td>40</td>\n",
       "    </tr>\n",
       "    <tr>\n",
       "      <th>5</th>\n",
       "      <td>9</td>\n",
       "      <td>Gessien</td>\n",
       "      <td>970</td>\n",
       "      <td>100</td>\n",
       "      <td>42</td>\n",
       "      <td>58</td>\n",
       "      <td>20</td>\n",
       "    </tr>\n",
       "    <tr>\n",
       "      <th>11</th>\n",
       "      <td>10</td>\n",
       "      <td>Slo</td>\n",
       "      <td>951</td>\n",
       "      <td>9</td>\n",
       "      <td>0</td>\n",
       "      <td>9</td>\n",
       "      <td>40</td>\n",
       "    </tr>\n",
       "    <tr>\n",
       "      <th>14</th>\n",
       "      <td>11</td>\n",
       "      <td>Roch</td>\n",
       "      <td>942</td>\n",
       "      <td>5</td>\n",
       "      <td>1</td>\n",
       "      <td>4</td>\n",
       "      <td>40</td>\n",
       "    </tr>\n",
       "    <tr>\n",
       "      <th>17</th>\n",
       "      <td>12</td>\n",
       "      <td>Thibs</td>\n",
       "      <td>919</td>\n",
       "      <td>8</td>\n",
       "      <td>2</td>\n",
       "      <td>6</td>\n",
       "      <td>40</td>\n",
       "    </tr>\n",
       "    <tr>\n",
       "      <th>16</th>\n",
       "      <td>13</td>\n",
       "      <td>Rémi</td>\n",
       "      <td>917</td>\n",
       "      <td>19</td>\n",
       "      <td>6</td>\n",
       "      <td>13</td>\n",
       "      <td>40</td>\n",
       "    </tr>\n",
       "    <tr>\n",
       "      <th>0</th>\n",
       "      <td>14</td>\n",
       "      <td>Marin</td>\n",
       "      <td>907</td>\n",
       "      <td>78</td>\n",
       "      <td>30</td>\n",
       "      <td>48</td>\n",
       "      <td>20</td>\n",
       "    </tr>\n",
       "    <tr>\n",
       "      <th>2</th>\n",
       "      <td>15</td>\n",
       "      <td>LL</td>\n",
       "      <td>888</td>\n",
       "      <td>61</td>\n",
       "      <td>20</td>\n",
       "      <td>41</td>\n",
       "      <td>20</td>\n",
       "    </tr>\n",
       "    <tr>\n",
       "      <th>4</th>\n",
       "      <td>16</td>\n",
       "      <td>Sutter</td>\n",
       "      <td>887</td>\n",
       "      <td>77</td>\n",
       "      <td>25</td>\n",
       "      <td>52</td>\n",
       "      <td>20</td>\n",
       "    </tr>\n",
       "    <tr>\n",
       "      <th>18</th>\n",
       "      <td>17</td>\n",
       "      <td>Antoine</td>\n",
       "      <td>875</td>\n",
       "      <td>9</td>\n",
       "      <td>2</td>\n",
       "      <td>7</td>\n",
       "      <td>40</td>\n",
       "    </tr>\n",
       "    <tr>\n",
       "      <th>13</th>\n",
       "      <td>18</td>\n",
       "      <td>Jacquet</td>\n",
       "      <td>864</td>\n",
       "      <td>17</td>\n",
       "      <td>3</td>\n",
       "      <td>14</td>\n",
       "      <td>40</td>\n",
       "    </tr>\n",
       "    <tr>\n",
       "      <th>10</th>\n",
       "      <td>19</td>\n",
       "      <td>Alice</td>\n",
       "      <td>784</td>\n",
       "      <td>37</td>\n",
       "      <td>8</td>\n",
       "      <td>29</td>\n",
       "      <td>20</td>\n",
       "    </tr>\n",
       "  </tbody>\n",
       "</table>\n",
       "</div>"
      ],
      "text/plain": [
       "    Classement    Joueur Points Sets joues Sets gagnes Sets perdus  \\\n",
       "3            1       KRa   1244        223         198          25   \n",
       "15           2   Bossard   1216         17          17           0   \n",
       "6            3    Mateos   1070        120          48          72   \n",
       "1            4     Colas   1064        141          78          63   \n",
       "7            5       PLN   1027         97          29          68   \n",
       "9            6    Xavier   1022          9           4           5   \n",
       "12           7      Pele    999         28          14          14   \n",
       "8            8  Toujouse    972         11           6           5   \n",
       "5            9   Gessien    970        100          42          58   \n",
       "11          10       Slo    951          9           0           9   \n",
       "14          11      Roch    942          5           1           4   \n",
       "17          12     Thibs    919          8           2           6   \n",
       "16          13      Rémi    917         19           6          13   \n",
       "0           14     Marin    907         78          30          48   \n",
       "2           15        LL    888         61          20          41   \n",
       "4           16    Sutter    887         77          25          52   \n",
       "18          17   Antoine    875          9           2           7   \n",
       "13          18   Jacquet    864         17           3          14   \n",
       "10          19     Alice    784         37           8          29   \n",
       "\n",
       "   Developpement  \n",
       "3             10  \n",
       "15            10  \n",
       "6             20  \n",
       "1             20  \n",
       "7             20  \n",
       "9             40  \n",
       "12            40  \n",
       "8             40  \n",
       "5             20  \n",
       "11            40  \n",
       "14            40  \n",
       "17            40  \n",
       "16            40  \n",
       "0             20  \n",
       "2             20  \n",
       "4             20  \n",
       "18            40  \n",
       "13            40  \n",
       "10            20  "
      ]
     },
     "execution_count": 42,
     "metadata": {},
     "output_type": "execute_result"
    }
   ],
   "source": [
    "df_stats = pd.DataFrame(columns=[\"Classement\", \"Joueur\", \"Points\", \"Sets joues\", \"Sets gagnes\",\n",
    "                                 \"Sets perdus\", \"Developpement\"])\n",
    "players = list(df.Joueur.unique())\n",
    "df_stats[\"Joueur\"] = players\n",
    "\n",
    "for i in range(len(players)):\n",
    "    player = players[i]\n",
    "    df_stats.loc[i] = [\"\", player, \n",
    "                infos[player][\"Points\"],\n",
    "                infos[player][\"Sets joues\"],\n",
    "                infos[player][\"Sets gagnes\"],\n",
    "                infos[player][\"Sets perdus\"],\n",
    "                infos[player][\"Developpement\"]]\n",
    "    \n",
    "df_stats.sort_values(by=[\"Points\"], ascending=False, inplace=True)\n",
    "df_stats[\"Classement\"] = range(1, len(players)+1)\n",
    "df_stats"
   ]
  },
  {
   "cell_type": "markdown",
   "metadata": {},
   "source": [
    "## 3. <a id=\"sec3\"></a> Postgres database"
   ]
  },
  {
   "cell_type": "markdown",
   "metadata": {},
   "source": [
    "Connect the database"
   ]
  },
  {
   "cell_type": "code",
   "execution_count": 43,
   "metadata": {},
   "outputs": [],
   "source": [
    "f = open(\"Connexion.txt\", \"r\")\n",
    "f.readline()\n",
    "host = f.readline()[:-1]\n",
    "f.readline()\n",
    "database = f.readline()[:-1]\n",
    "f.readline()\n",
    "user = f.readline()[:-1]\n",
    "f.readline()\n",
    "password = f.readline()"
   ]
  },
  {
   "cell_type": "code",
   "execution_count": 44,
   "metadata": {},
   "outputs": [],
   "source": [
    "conn = psycopg2.connect(\n",
    "    host=host,\n",
    "    database=database,\n",
    "    user=user,\n",
    "    password=password)"
   ]
  },
  {
   "cell_type": "markdown",
   "metadata": {},
   "source": [
    "Test the connection"
   ]
  },
  {
   "cell_type": "code",
   "execution_count": 45,
   "metadata": {},
   "outputs": [
    {
     "name": "stdout",
     "output_type": "stream",
     "text": [
      "PostgreSQL database version:\n",
      "('PostgreSQL 14.2 on x86_64-pc-linux-gnu, compiled by gcc (Debian 8.3.0-6) 8.3.0, 64-bit',)\n"
     ]
    }
   ],
   "source": [
    "cur = conn.cursor()\n",
    "        \n",
    "\t# execute a statement\n",
    "print('PostgreSQL database version:')\n",
    "cur.execute('SELECT version()')\n",
    "\n",
    "# display the PostgreSQL database server version\n",
    "db_version = cur.fetchone()\n",
    "print(db_version)\n",
    "\n",
    "# close the communication with the PostgreSQL\n",
    "cur.close()"
   ]
  },
  {
   "cell_type": "markdown",
   "metadata": {},
   "source": [
    "Drop the existing tables"
   ]
  },
  {
   "cell_type": "code",
   "execution_count": 46,
   "metadata": {},
   "outputs": [],
   "source": [
    "def drop_table(table_name):\n",
    "    command = \"DROP TABLE IF EXISTS {};\".format(table_name)\n",
    "    cur = conn.cursor()\n",
    "    cur.execute(command)\n",
    "    cur.close()\n",
    "    conn.commit()\n",
    "    print(\"Table {} successfully deleted\".format(table_name))"
   ]
  },
  {
   "cell_type": "code",
   "execution_count": 47,
   "metadata": {},
   "outputs": [
    {
     "name": "stdout",
     "output_type": "stream",
     "text": [
      "Table match successfully deleted\n",
      "Table stats successfully deleted\n"
     ]
    }
   ],
   "source": [
    "drop_table(\"match\")\n",
    "drop_table(\"stats\")"
   ]
  },
  {
   "cell_type": "markdown",
   "metadata": {},
   "source": [
    "Create the tables"
   ]
  },
  {
   "cell_type": "code",
   "execution_count": 48,
   "metadata": {},
   "outputs": [],
   "source": [
    "command_match = \"\"\"\n",
    "CREATE TABLE match (\n",
    "    date timestamp,\n",
    "    joueur character varying(20) NOT NULL,\n",
    "    points integer\n",
    ");\n",
    "\"\"\"\n",
    "\n",
    "command_rank = \"\"\"\n",
    "CREATE TABLE stats (\n",
    "    rang integer,\n",
    "    joueur character varying(20) NOT NULL,\n",
    "    points integer,\n",
    "    setsj integer,\n",
    "    setsg integer,\n",
    "    setsp integer,\n",
    "    dev integer\n",
    ");\n",
    "\"\"\""
   ]
  },
  {
   "cell_type": "code",
   "execution_count": 49,
   "metadata": {},
   "outputs": [],
   "source": [
    "cur = conn.cursor()\n",
    "cur.execute(command_match)\n",
    "cur.execute(command_rank)\n",
    "cur.close()\n",
    "conn.commit()"
   ]
  },
  {
   "cell_type": "markdown",
   "metadata": {},
   "source": [
    "Insert data"
   ]
  },
  {
   "cell_type": "code",
   "execution_count": 50,
   "metadata": {},
   "outputs": [],
   "source": [
    "def insert_command(df, table):\n",
    "    insert_data = \"INSERT INTO {} VALUES \".format(table)\n",
    "    n = df.shape[0]\n",
    "    for i in range(n):\n",
    "        value = \"(\"\n",
    "        for elem in list(df.loc[i]):\n",
    "            value += \"'\" + str(elem) + \"'\" + \",\"\n",
    "        value = value[:-1]\n",
    "        value += ')'\n",
    "        \n",
    "        insert_data += value + \",\"\n",
    "        \n",
    "    insert_data = insert_data[:-1]\n",
    "    insert_data += \";\"\n",
    "    return insert_data"
   ]
  },
  {
   "cell_type": "code",
   "execution_count": 51,
   "metadata": {},
   "outputs": [],
   "source": [
    "cur = conn.cursor()\n",
    "cur.execute(insert_command(df_match, \"match\"))\n",
    "cur.execute(insert_command(df_stats, \"stats\"))\n",
    "cur.close()\n",
    "conn.commit()"
   ]
  },
  {
   "cell_type": "markdown",
   "metadata": {},
   "source": [
    "Close the connection"
   ]
  },
  {
   "cell_type": "code",
   "execution_count": 52,
   "metadata": {},
   "outputs": [],
   "source": [
    "conn.close()"
   ]
  },
  {
   "cell_type": "markdown",
   "metadata": {},
   "source": [
    "## 4. <a id=\"sec4\"></a> R&D"
   ]
  },
  {
   "cell_type": "code",
   "execution_count": 21,
   "metadata": {},
   "outputs": [
    {
     "data": {
      "text/html": [
       "<div>\n",
       "<style scoped>\n",
       "    .dataframe tbody tr th:only-of-type {\n",
       "        vertical-align: middle;\n",
       "    }\n",
       "\n",
       "    .dataframe tbody tr th {\n",
       "        vertical-align: top;\n",
       "    }\n",
       "\n",
       "    .dataframe thead th {\n",
       "        text-align: right;\n",
       "    }\n",
       "</style>\n",
       "<table border=\"1\" class=\"dataframe\">\n",
       "  <thead>\n",
       "    <tr style=\"text-align: right;\">\n",
       "      <th></th>\n",
       "      <th>Date</th>\n",
       "      <th>Joueur</th>\n",
       "      <th>Scores</th>\n",
       "      <th>Sets joues</th>\n",
       "      <th>Sets gagnes</th>\n",
       "      <th>Sets perdus</th>\n",
       "      <th>Developpement</th>\n",
       "      <th>Points</th>\n",
       "    </tr>\n",
       "  </thead>\n",
       "  <tbody>\n",
       "    <tr>\n",
       "      <th>0</th>\n",
       "      <td>2021-09-15 22:00:00</td>\n",
       "      <td>Marin</td>\n",
       "      <td>0</td>\n",
       "      <td>2</td>\n",
       "      <td>0</td>\n",
       "      <td>2</td>\n",
       "      <td>40</td>\n",
       "      <td>960</td>\n",
       "    </tr>\n",
       "    <tr>\n",
       "      <th>1</th>\n",
       "      <td>2021-09-15 22:00:00</td>\n",
       "      <td>Colas</td>\n",
       "      <td>2</td>\n",
       "      <td>2</td>\n",
       "      <td>2</td>\n",
       "      <td>0</td>\n",
       "      <td>40</td>\n",
       "      <td>1040</td>\n",
       "    </tr>\n",
       "    <tr>\n",
       "      <th>2</th>\n",
       "      <td>2021-09-16 18:24:00</td>\n",
       "      <td>LL</td>\n",
       "      <td>1</td>\n",
       "      <td>4</td>\n",
       "      <td>1</td>\n",
       "      <td>3</td>\n",
       "      <td>40</td>\n",
       "      <td>973</td>\n",
       "    </tr>\n",
       "    <tr>\n",
       "      <th>3</th>\n",
       "      <td>2021-09-16 18:24:00</td>\n",
       "      <td>Colas</td>\n",
       "      <td>3</td>\n",
       "      <td>6</td>\n",
       "      <td>5</td>\n",
       "      <td>1</td>\n",
       "      <td>40</td>\n",
       "      <td>1067</td>\n",
       "    </tr>\n",
       "    <tr>\n",
       "      <th>4</th>\n",
       "      <td>2021-09-17 14:48:00</td>\n",
       "      <td>KRa</td>\n",
       "      <td>0</td>\n",
       "      <td>2</td>\n",
       "      <td>0</td>\n",
       "      <td>2</td>\n",
       "      <td>40</td>\n",
       "      <td>971</td>\n",
       "    </tr>\n",
       "    <tr>\n",
       "      <th>...</th>\n",
       "      <td>...</td>\n",
       "      <td>...</td>\n",
       "      <td>...</td>\n",
       "      <td>...</td>\n",
       "      <td>...</td>\n",
       "      <td>...</td>\n",
       "      <td>...</td>\n",
       "      <td>...</td>\n",
       "    </tr>\n",
       "    <tr>\n",
       "      <th>323</th>\n",
       "      <td>2022-02-04 22:00:00</td>\n",
       "      <td>Gessien</td>\n",
       "      <td>1</td>\n",
       "      <td>73</td>\n",
       "      <td>30</td>\n",
       "      <td>43</td>\n",
       "      <td>20</td>\n",
       "      <td>905</td>\n",
       "    </tr>\n",
       "    <tr>\n",
       "      <th>324</th>\n",
       "      <td>2022-02-05 22:00:00</td>\n",
       "      <td>Rémi</td>\n",
       "      <td>2</td>\n",
       "      <td>19</td>\n",
       "      <td>6</td>\n",
       "      <td>13</td>\n",
       "      <td>40</td>\n",
       "      <td>917</td>\n",
       "    </tr>\n",
       "    <tr>\n",
       "      <th>325</th>\n",
       "      <td>2022-02-05 22:00:00</td>\n",
       "      <td>Gessien</td>\n",
       "      <td>3</td>\n",
       "      <td>78</td>\n",
       "      <td>33</td>\n",
       "      <td>45</td>\n",
       "      <td>20</td>\n",
       "      <td>924</td>\n",
       "    </tr>\n",
       "    <tr>\n",
       "      <th>326</th>\n",
       "      <td>2022-02-06 22:00:00</td>\n",
       "      <td>Colas</td>\n",
       "      <td>2</td>\n",
       "      <td>126</td>\n",
       "      <td>70</td>\n",
       "      <td>56</td>\n",
       "      <td>20</td>\n",
       "      <td>1037</td>\n",
       "    </tr>\n",
       "    <tr>\n",
       "      <th>327</th>\n",
       "      <td>2022-02-06 22:00:00</td>\n",
       "      <td>Marin</td>\n",
       "      <td>2</td>\n",
       "      <td>68</td>\n",
       "      <td>29</td>\n",
       "      <td>39</td>\n",
       "      <td>20</td>\n",
       "      <td>971</td>\n",
       "    </tr>\n",
       "  </tbody>\n",
       "</table>\n",
       "<p>328 rows × 8 columns</p>\n",
       "</div>"
      ],
      "text/plain": [
       "                    Date   Joueur  Scores  Sets joues  Sets gagnes  \\\n",
       "0    2021-09-15 22:00:00    Marin       0           2            0   \n",
       "1    2021-09-15 22:00:00    Colas       2           2            2   \n",
       "2    2021-09-16 18:24:00       LL       1           4            1   \n",
       "3    2021-09-16 18:24:00    Colas       3           6            5   \n",
       "4    2021-09-17 14:48:00      KRa       0           2            0   \n",
       "..                   ...      ...     ...         ...          ...   \n",
       "323  2022-02-04 22:00:00  Gessien       1          73           30   \n",
       "324  2022-02-05 22:00:00     Rémi       2          19            6   \n",
       "325  2022-02-05 22:00:00  Gessien       3          78           33   \n",
       "326  2022-02-06 22:00:00    Colas       2         126           70   \n",
       "327  2022-02-06 22:00:00    Marin       2          68           29   \n",
       "\n",
       "     Sets perdus  Developpement  Points  \n",
       "0              2             40     960  \n",
       "1              0             40    1040  \n",
       "2              3             40     973  \n",
       "3              1             40    1067  \n",
       "4              2             40     971  \n",
       "..           ...            ...     ...  \n",
       "323           43             20     905  \n",
       "324           13             40     917  \n",
       "325           45             20     924  \n",
       "326           56             20    1037  \n",
       "327           39             20     971  \n",
       "\n",
       "[328 rows x 8 columns]"
      ]
     },
     "execution_count": 21,
     "metadata": {},
     "output_type": "execute_result"
    }
   ],
   "source": [
    "df_r = pd.read_csv(\"Historique Elo.csv\", sep=';', decimal=',')\n",
    "df_r"
   ]
  },
  {
   "cell_type": "code",
   "execution_count": 22,
   "metadata": {},
   "outputs": [
    {
     "name": "stdout",
     "output_type": "stream",
     "text": [
      "['Marin', 'Colas']\n",
      "1\n",
      "['LL', 'Colas']\n",
      "1\n"
     ]
    }
   ],
   "source": [
    "for match in list(df_r[\"Date\"].unique())[:2]:\n",
    "    df_local = df_r[df_r[\"Date\"] == match]\n",
    "    players = list(df_local.Joueur)\n",
    "    print(players)\n",
    "    fort = np.argmax(list(df_local[\"Points\"]))\n",
    "    print(fort)"
   ]
  },
  {
   "cell_type": "code",
   "execution_count": null,
   "metadata": {},
   "outputs": [],
   "source": []
  },
  {
   "cell_type": "code",
   "execution_count": null,
   "metadata": {},
   "outputs": [],
   "source": []
  },
  {
   "cell_type": "code",
   "execution_count": 23,
   "metadata": {},
   "outputs": [
    {
     "name": "stdout",
     "output_type": "stream",
     "text": [
      "[1231, 1216, 1070, 1037, 1022, 1006, 972, 971, 963, 951, 942, 928, 924, 919, 917, 914, 899, 875, 794]\n"
     ]
    }
   ],
   "source": [
    "print(list(df_stats.Points))"
   ]
  },
  {
   "cell_type": "code",
   "execution_count": 24,
   "metadata": {},
   "outputs": [
    {
     "data": {
      "text/plain": [
       "(array([1., 1., 5., 4., 3., 2., 1., 0., 0., 2.]),\n",
       " array([ 794. ,  837.7,  881.4,  925.1,  968.8, 1012.5, 1056.2, 1099.9,\n",
       "        1143.6, 1187.3, 1231. ]),\n",
       " <a list of 10 Patch objects>)"
      ]
     },
     "execution_count": 24,
     "metadata": {},
     "output_type": "execute_result"
    },
    {
     "data": {
      "image/png": "[encoded data removed]",
      "text/plain": [
       "<Figure size 432x288 with 1 Axes>"
      ]
     },
     "metadata": {
      "needs_background": "light"
     },
     "output_type": "display_data"
    }
   ],
   "source": [
    "plt.hist(list(df_stats.Points),10)"
   ]
  },
  {
   "cell_type": "code",
   "execution_count": 25,
   "metadata": {},
   "outputs": [],
   "source": [
    "from sklearn.neighbors import KernelDensity"
   ]
  },
  {
   "cell_type": "code",
   "execution_count": 26,
   "metadata": {},
   "outputs": [],
   "source": [
    "x = np.array(list(df_stats.Points)).reshape(-1,1)\n",
    "bins = np.linspace(600,1300,10)\n",
    "x_plot = np.linspace(600,1300,1000).reshape(-1,1)"
   ]
  },
  {
   "cell_type": "code",
   "execution_count": 27,
   "metadata": {},
   "outputs": [],
   "source": [
    "kde = KernelDensity(kernel=\"gaussian\", bandwidth=20).fit(x)\n",
    "log_dens = kde.score_samples(x_plot)"
   ]
  },
  {
   "cell_type": "code",
   "execution_count": 28,
   "metadata": {},
   "outputs": [
    {
     "data": {
      "image/png": "[encoded data removed]",
      "text/plain": [
       "<Figure size 432x288 with 2 Axes>"
      ]
     },
     "metadata": {
      "needs_background": "light"
     },
     "output_type": "display_data"
    }
   ],
   "source": [
    "peak = x_plot[np.argmax(log_dens)]\n",
    "\n",
    "fig = plt.figure()\n",
    "plt.subplot(2,1,1)\n",
    "plt.fill(x_plot, np.exp(log_dens), fc=\"#AAAAFF\")\n",
    "plt.axvline(peak, c='r')\n",
    "plt.axvline(np.mean(x), c='g')\n",
    "# plt.\n",
    "plt.subplot(2,1,2)\n",
    "plt.hist(x, bins)\n",
    "plt.axvline(peak, c='r')\n",
    "plt.axvline(np.mean(x), c='y')\n",
    "plt.show()"
   ]
  },
  {
   "cell_type": "code",
   "execution_count": 29,
   "metadata": {},
   "outputs": [
    {
     "name": "stdout",
     "output_type": "stream",
     "text": [
      "976.3684210526316\n",
      "[925.82582583]\n"
     ]
    }
   ],
   "source": [
    "print(np.mean(x))\n",
    "print(peak)"
   ]
  },
  {
   "cell_type": "code",
   "execution_count": null,
   "metadata": {},
   "outputs": [],
   "source": []
  }
 ],
 "metadata": {
  "kernelspec": {
   "display_name": "Python 3",
   "language": "python",
   "name": "python3"
  },
  "language_info": {
   "codemirror_mode": {
    "name": "ipython",
    "version": 3
   },
   "file_extension": ".py",
   "mimetype": "text/x-python",
   "name": "python",
   "nbconvert_exporter": "python",
   "pygments_lexer": "ipython3",
   "version": "3.8.3"
  }
 },
 "nbformat": 4,
 "nbformat_minor": 2
}
