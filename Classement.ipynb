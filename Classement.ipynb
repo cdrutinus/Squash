{
 "cells": [
  {
   "cell_type": "code",
   "execution_count": 1,
   "metadata": {},
   "outputs": [],
   "source": [
    "import pandas as pd\n",
    "import numpy as np"
   ]
  },
  {
   "cell_type": "code",
   "execution_count": 2,
   "metadata": {},
   "outputs": [],
   "source": [
    "def f(rank):\n",
    "    return 1/np.sqrt(rank)"
   ]
  },
  {
   "cell_type": "code",
   "execution_count": 3,
   "metadata": {},
   "outputs": [],
   "source": [
    "def calcul_classement(df, f, calc_sets=False):\n",
    "    \n",
    "    n_joueurs = len(df.Joueurs.unique())\n",
    "    \n",
    "    ### Résultat de chaque match\n",
    "    résultats = []\n",
    "    for match in df.Match.unique():\n",
    "        scores = list(df[df[\"Match\"]==match][\"Scores\"])\n",
    "        \n",
    "        résultat = -1\n",
    "        if scores[0] > scores[1]:\n",
    "            résultat = 1\n",
    "        elif scores[0] == scores[1]:\n",
    "            résultat = 0\n",
    "            \n",
    "        résultats.append(résultat)\n",
    "        résultats.append(-résultat)\n",
    "\n",
    "    df[\"Résultat\"] = résultats\n",
    "\n",
    "    ### Points de chaque match\n",
    "    points = []\n",
    "    for match in df.Match.unique():\n",
    "        classement = list(df[df[\"Match\"]==match][\"Classement\"])        \n",
    "        sets = list(df[df[\"Match\"]==match][\"Scores\"])\n",
    "        résultat = list(df[df[\"Match\"]==match][\"Résultat\"])\n",
    "        for i in range(2):\n",
    "            if calc_sets==False:\n",
    "                point = max(3*np.sqrt(n_joueurs)*résultat[i]*f(classement[1-i]), 0)\n",
    "                points.append(point) \n",
    "            else:\n",
    "                point = sets[i]*f(classement[1-i]) + (résultat[i]+1)\n",
    "                points.append(point)\n",
    "                \n",
    "        \n",
    "    df[\"Points\"] = points\n",
    "    \n",
    "    ### Calcul des stats de chaque joueur\n",
    "    df_rang = pd.DataFrame(columns={\"Joueur\"})\n",
    "    \n",
    "    df_rang[\"Joueur\"] = df.Joueurs.unique()\n",
    "    joués, victoires, nuls, défaites, taux, points_joueurs = [], [], [], [], [], []\n",
    "    for joueur in df_rang[\"Joueur\"]:\n",
    "        nb_joués = df[df[\"Joueurs\"]==joueur].shape[0]\n",
    "        joués.append(nb_joués)\n",
    "        nb_victoires = list(df[df[\"Joueurs\"]==joueur][\"Résultat\"]).count(1)\n",
    "        victoires.append(nb_victoires)\n",
    "        nb_nuls = list(df[df[\"Joueurs\"]==joueur][\"Résultat\"]).count(0)\n",
    "        nuls.append(nb_nuls)\n",
    "        nb_défaites = list(df[df[\"Joueurs\"]==joueur][\"Résultat\"]).count(-1)\n",
    "        défaites.append(nb_défaites)\n",
    "        taux.append(\"{}%\".format(int(nb_victoires/nb_joués*100)))\n",
    "        points_joueurs.append(round(sum(list(df[df[\"Joueurs\"]==joueur][\"Points\"])), 2))\n",
    "\n",
    "    df_rang[\"Joués\"] = joués\n",
    "    df_rang[\"Victoires\"] = victoires\n",
    "    df_rang[\"Nuls\"] = nuls\n",
    "    df_rang[\"Défaites\"] = défaites\n",
    "    df_rang[\"Taux de succès\"] = taux\n",
    "    df_rang[\"Points\"] = points_joueurs\n",
    "\n",
    "    df_rang.sort_values(by=[\"Points\", \"Taux de succès\"], ascending=[False, False], inplace=True)\n",
    "    \n",
    "    df_rang[\"Rang\"] = range(1, n_joueurs+1)\n",
    "    \n",
    "    return df_rang"
   ]
  },
  {
   "cell_type": "code",
   "execution_count": 4,
   "metadata": {},
   "outputs": [],
   "source": [
    "def classement_squash(filename, f, calc_sets):\n",
    "    \n",
    "    df_matchs = pd.read_csv(filename, sep=';', decimal=',')\n",
    "    \n",
    "    if df_matchs.Classement.isna().any():\n",
    "                \n",
    "        df_previous_matchs = df_matchs.dropna().copy()\n",
    "\n",
    "        df_previous_rank = calcul_classement(df_previous_matchs, f, calc_sets)\n",
    "\n",
    "        # Remplissage avec les nouveaux classements\n",
    "        for i in range(df_matchs.shape[0]):\n",
    "            if np.isnan(df_matchs[\"Classement\"][i]):\n",
    "                joueur = df_matchs[\"Joueurs\"][i]\n",
    "                df_matchs[\"Classement\"][i] = df_previous_rank[df_previous_rank[\"Joueur\"]==joueur][\"Rang\"]\n",
    "\n",
    "        # Export de l'historique mis à jour\n",
    "        df_matchs.to_csv(filename, sep=';', decimal=',', columns=[\"Match\", \"Joueurs\", \"Classement\", \"Scores\"], index=False)\n",
    "    \n",
    "    # Classement final\n",
    "    df_rank = calcul_classement(df_matchs, f, calc_sets)\n",
    "    \n",
    "    return df_rank"
   ]
  },
  {
   "cell_type": "code",
   "execution_count": 6,
   "metadata": {},
   "outputs": [
    {
     "name": "stdout",
     "output_type": "stream",
     "text": [
      "  Joueur  Joués  Victoires  Nuls  Défaites Taux de succès  Points  Rang\n",
      "     KRa      9          8     0         1            88%   26.63     1\n",
      "   Colas      3          3     0         0           100%   10.39     2\n",
      "      LL      5          2     0         3            40%    7.71     3\n",
      "   Marin      5          1     0         4            20%    4.50     4\n",
      "  Mateos      6          1     0         5            16%    4.13     5\n",
      " Gessien      2          1     0         1            50%    3.13     6\n",
      "  Sutter      2          0     0         2             0%    0.82     7\n"
     ]
    }
   ],
   "source": [
    "rank = classement_squash(\"Historique.csv\", f, True)\n",
    "print(rank.to_string(index=False))"
   ]
  },
  {
   "cell_type": "code",
   "execution_count": 7,
   "metadata": {},
   "outputs": [
    {
     "name": "stdout",
     "output_type": "stream",
     "text": [
      "  Joueur  Points à gagner (sur un set)  Points à gagner (sur un match)\n",
      "     KRa                      1.000000                        5.000000\n",
      "   Colas                      0.707107                        4.121320\n",
      "      LL                      0.577350                        3.732051\n",
      "   Marin                      0.500000                        3.500000\n",
      "  Mateos                      0.447214                        3.341641\n",
      " Gessien                      0.408248                        3.224745\n",
      "  Sutter                      0.377964                        3.133893\n"
     ]
    }
   ],
   "source": [
    "df_attribution_points = pd.DataFrame(columns={\"Joueur\", \"Points à gagner (sur un set)\"})\n",
    "df_attribution_points[\"Joueur\"] = rank.Joueur\n",
    "n_joueurs = len(list(df_attribution_points[\"Joueur\"]))\n",
    "df_attribution_points[\"Points à gagner (sur un set)\"] = [f(i) for i in range(1, n_joueurs + 1)]\n",
    "df_attribution_points[\"Points à gagner (sur un match)\"] = df_attribution_points[\"Points à gagner (sur un set)\"]*3 + 2\n",
    "\n",
    "print(df_attribution_points.to_string(index=False))"
   ]
  },
  {
   "cell_type": "code",
   "execution_count": null,
   "metadata": {},
   "outputs": [],
   "source": []
  }
 ],
 "metadata": {
  "kernelspec": {
   "display_name": "Python 3",
   "language": "python",
   "name": "python3"
  },
  "language_info": {
   "codemirror_mode": {
    "name": "ipython",
    "version": 3
   },
   "file_extension": ".py",
   "mimetype": "text/x-python",
   "name": "python",
   "nbconvert_exporter": "python",
   "pygments_lexer": "ipython3",
   "version": "3.7.4"
  }
 },
 "nbformat": 4,
 "nbformat_minor": 2
}
